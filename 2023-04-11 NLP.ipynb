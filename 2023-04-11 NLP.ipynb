{
 "cells": [
  {
   "cell_type": "code",
   "execution_count": 2,
   "metadata": {},
   "outputs": [
    {
     "ename": "AssertionError",
     "evalue": "Torch not compiled with CUDA enabled",
     "output_type": "error",
     "traceback": [
      "\u001b[1;31m---------------------------------------------------------------------------\u001b[0m",
      "\u001b[1;31mAssertionError\u001b[0m                            Traceback (most recent call last)",
      "\u001b[1;32mc:\\Users\\Nicolas Ong\\Documents\\Data\\Programming\\Python\\ai_tests\\2023-04-11 NLP.ipynb Cell 1\u001b[0m in \u001b[0;36m<cell line: 5>\u001b[1;34m()\u001b[0m\n\u001b[0;32m      <a href='vscode-notebook-cell:/c%3A/Users/Nicolas%20Ong/Documents/Data/Programming/Python/ai_tests/2023-04-11%20NLP.ipynb#W0sZmlsZQ%3D%3D?line=2'>3</a>\u001b[0m torch\u001b[39m.\u001b[39mcuda\u001b[39m.\u001b[39mis_available()\n\u001b[0;32m      <a href='vscode-notebook-cell:/c%3A/Users/Nicolas%20Ong/Documents/Data/Programming/Python/ai_tests/2023-04-11%20NLP.ipynb#W0sZmlsZQ%3D%3D?line=3'>4</a>\u001b[0m torch\u001b[39m.\u001b[39mcuda\u001b[39m.\u001b[39mdevice_count()\n\u001b[1;32m----> <a href='vscode-notebook-cell:/c%3A/Users/Nicolas%20Ong/Documents/Data/Programming/Python/ai_tests/2023-04-11%20NLP.ipynb#W0sZmlsZQ%3D%3D?line=4'>5</a>\u001b[0m torch\u001b[39m.\u001b[39;49mcuda\u001b[39m.\u001b[39;49mcurrent_device()\n\u001b[0;32m      <a href='vscode-notebook-cell:/c%3A/Users/Nicolas%20Ong/Documents/Data/Programming/Python/ai_tests/2023-04-11%20NLP.ipynb#W0sZmlsZQ%3D%3D?line=5'>6</a>\u001b[0m device \u001b[39m=\u001b[39m torch\u001b[39m.\u001b[39mdevice(\u001b[39m\"\u001b[39m\u001b[39mcuda:0\u001b[39m\u001b[39m\"\u001b[39m \u001b[39mif\u001b[39;00m torch\u001b[39m.\u001b[39mcuda\u001b[39m.\u001b[39mis_available() \u001b[39melse\u001b[39;00m \u001b[39m\"\u001b[39m\u001b[39mcpu\u001b[39m\u001b[39m\"\u001b[39m)\n\u001b[0;32m      <a href='vscode-notebook-cell:/c%3A/Users/Nicolas%20Ong/Documents/Data/Programming/Python/ai_tests/2023-04-11%20NLP.ipynb#W0sZmlsZQ%3D%3D?line=6'>7</a>\u001b[0m torch\u001b[39m.\u001b[39mcuda\u001b[39m.\u001b[39mget_device_name(\u001b[39m0\u001b[39m)\n",
      "File \u001b[1;32mc:\\Users\\Nicolas Ong\\Documents\\Data2\\Python\\venv\\lib\\site-packages\\torch\\cuda\\__init__.py:552\u001b[0m, in \u001b[0;36mcurrent_device\u001b[1;34m()\u001b[0m\n\u001b[0;32m    550\u001b[0m \u001b[39mdef\u001b[39;00m \u001b[39mcurrent_device\u001b[39m() \u001b[39m-\u001b[39m\u001b[39m>\u001b[39m \u001b[39mint\u001b[39m:\n\u001b[0;32m    551\u001b[0m     \u001b[39mr\u001b[39m\u001b[39m\"\"\"Returns the index of a currently selected device.\"\"\"\u001b[39;00m\n\u001b[1;32m--> 552\u001b[0m     _lazy_init()\n\u001b[0;32m    553\u001b[0m     \u001b[39mreturn\u001b[39;00m torch\u001b[39m.\u001b[39m_C\u001b[39m.\u001b[39m_cuda_getDevice()\n",
      "File \u001b[1;32mc:\\Users\\Nicolas Ong\\Documents\\Data2\\Python\\venv\\lib\\site-packages\\torch\\cuda\\__init__.py:221\u001b[0m, in \u001b[0;36m_lazy_init\u001b[1;34m()\u001b[0m\n\u001b[0;32m    217\u001b[0m     \u001b[39mraise\u001b[39;00m \u001b[39mRuntimeError\u001b[39;00m(\n\u001b[0;32m    218\u001b[0m         \u001b[39m\"\u001b[39m\u001b[39mCannot re-initialize CUDA in forked subprocess. To use CUDA with \u001b[39m\u001b[39m\"\u001b[39m\n\u001b[0;32m    219\u001b[0m         \u001b[39m\"\u001b[39m\u001b[39mmultiprocessing, you must use the \u001b[39m\u001b[39m'\u001b[39m\u001b[39mspawn\u001b[39m\u001b[39m'\u001b[39m\u001b[39m start method\u001b[39m\u001b[39m\"\u001b[39m)\n\u001b[0;32m    220\u001b[0m \u001b[39mif\u001b[39;00m \u001b[39mnot\u001b[39;00m \u001b[39mhasattr\u001b[39m(torch\u001b[39m.\u001b[39m_C, \u001b[39m'\u001b[39m\u001b[39m_cuda_getDeviceCount\u001b[39m\u001b[39m'\u001b[39m):\n\u001b[1;32m--> 221\u001b[0m     \u001b[39mraise\u001b[39;00m \u001b[39mAssertionError\u001b[39;00m(\u001b[39m\"\u001b[39m\u001b[39mTorch not compiled with CUDA enabled\u001b[39m\u001b[39m\"\u001b[39m)\n\u001b[0;32m    222\u001b[0m \u001b[39mif\u001b[39;00m _cudart \u001b[39mis\u001b[39;00m \u001b[39mNone\u001b[39;00m:\n\u001b[0;32m    223\u001b[0m     \u001b[39mraise\u001b[39;00m \u001b[39mAssertionError\u001b[39;00m(\n\u001b[0;32m    224\u001b[0m         \u001b[39m\"\u001b[39m\u001b[39mlibcudart functions unavailable. It looks like you have a broken build?\u001b[39m\u001b[39m\"\u001b[39m)\n",
      "\u001b[1;31mAssertionError\u001b[0m: Torch not compiled with CUDA enabled"
     ]
    }
   ],
   "source": [
    "import torch\n",
    "\n",
    "torch.cuda.is_available()\n",
    "torch.cuda.device_count()\n",
    "torch.cuda.current_device()\n",
    "device = torch.device(\"cuda:0\" if torch.cuda.is_available() else \"cpu\")\n",
    "torch.cuda.get_device_name(0)"
   ]
  },
  {
   "cell_type": "code",
   "execution_count": 15,
   "metadata": {},
   "outputs": [
    {
     "ename": "AttributeError",
     "evalue": "module 'torchtext.models.roberta' has no attribute 'get_model'",
     "output_type": "error",
     "traceback": [
      "\u001b[1;31m---------------------------------------------------------------------------\u001b[0m",
      "\u001b[1;31mAttributeError\u001b[0m                            Traceback (most recent call last)",
      "\u001b[1;32mc:\\Users\\Nicolas Ong\\Documents\\Data\\Programming\\Python\\ai_tests\\2023-04-11 NLP.ipynb Cell 2\u001b[0m in \u001b[0;36m<cell line: 2>\u001b[1;34m()\u001b[0m\n\u001b[0;32m      <a href='vscode-notebook-cell:/c%3A/Users/Nicolas%20Ong/Documents/Data/Programming/Python/ai_tests/2023-04-11%20NLP.ipynb#W1sZmlsZQ%3D%3D?line=0'>1</a>\u001b[0m t5_small \u001b[39m=\u001b[39m torchtext\u001b[39m.\u001b[39mmodels\u001b[39m.\u001b[39mroberta\n\u001b[1;32m----> <a href='vscode-notebook-cell:/c%3A/Users/Nicolas%20Ong/Documents/Data/Programming/Python/ai_tests/2023-04-11%20NLP.ipynb#W1sZmlsZQ%3D%3D?line=1'>2</a>\u001b[0m model \u001b[39m=\u001b[39m t5_small\u001b[39m.\u001b[39;49mget_model()\n\u001b[0;32m      <a href='vscode-notebook-cell:/c%3A/Users/Nicolas%20Ong/Documents/Data/Programming/Python/ai_tests/2023-04-11%20NLP.ipynb#W1sZmlsZQ%3D%3D?line=2'>3</a>\u001b[0m transform \u001b[39m=\u001b[39m t5_small\u001b[39m.\u001b[39mtransform()\n\u001b[0;32m      <a href='vscode-notebook-cell:/c%3A/Users/Nicolas%20Ong/Documents/Data/Programming/Python/ai_tests/2023-04-11%20NLP.ipynb#W1sZmlsZQ%3D%3D?line=3'>4</a>\u001b[0m input_batch \u001b[39m=\u001b[39m [\u001b[39m\"\u001b[39m\u001b[39mHello world\u001b[39m\u001b[39m\"\u001b[39m, \u001b[39m\"\u001b[39m\u001b[39mHow are you!\u001b[39m\u001b[39m\"\u001b[39m]\n",
      "\u001b[1;31mAttributeError\u001b[0m: module 'torchtext.models.roberta' has no attribute 'get_model'"
     ]
    }
   ],
   "source": [
    "t5_small = torchtext.models.roberta.\n",
    "model = t5_small.get_model()\n",
    "transform = t5_small.transform()\n",
    "input_batch = [\"Hello world\", \"How are you!\"]\n",
    "transformed_input = transform(input_batch)\n",
    "#print(transformed_input)\n",
    "#model_input = to_tensor(transformed_input, padding_value=1)\n",
    "output = model(transformed_input)\n",
    "#output.shape\n",
    "print(output)\n",
    "#print(model)"
   ]
  }
 ],
 "metadata": {
  "kernelspec": {
   "display_name": "venv",
   "language": "python",
   "name": "python3"
  },
  "language_info": {
   "codemirror_mode": {
    "name": "ipython",
    "version": 3
   },
   "file_extension": ".py",
   "mimetype": "text/x-python",
   "name": "python",
   "nbconvert_exporter": "python",
   "pygments_lexer": "ipython3",
   "version": "3.9.1"
  },
  "orig_nbformat": 4
 },
 "nbformat": 4,
 "nbformat_minor": 2
}
